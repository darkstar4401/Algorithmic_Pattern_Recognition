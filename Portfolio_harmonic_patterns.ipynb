{
 "cells": [
  {
   "cell_type": "markdown",
   "metadata": {},
   "source": [
    "# Introduction:\n",
    "\n",
    "## Notebook explores the process of calculating local extremas for:\n",
    "#### pattern recognition\n",
    "#### support/resistance levels\n",
    "##### ML feature engineering\n",
    "\n"
   ]
  },
  {
   "cell_type": "code",
   "execution_count": 1,
   "metadata": {},
   "outputs": [
    {
     "ename": "RuntimeError",
     "evalue": "module compiled against API version 0xc but this version of numpy is 0xb",
     "output_type": "error",
     "traceback": [
      "\u001b[0;31m---------------------------------------------------------------------------\u001b[0m",
      "\u001b[0;31mRuntimeError\u001b[0m                              Traceback (most recent call last)",
      "\u001b[0;31mRuntimeError\u001b[0m: module compiled against API version 0xc but this version of numpy is 0xb"
     ]
    },
    {
     "ename": "RuntimeError",
     "evalue": "module compiled against API version 0xc but this version of numpy is 0xb",
     "output_type": "error",
     "traceback": [
      "\u001b[0;31m---------------------------------------------------------------------------\u001b[0m",
      "\u001b[0;31mRuntimeError\u001b[0m                              Traceback (most recent call last)",
      "\u001b[0;31mRuntimeError\u001b[0m: module compiled against API version 0xc but this version of numpy is 0xb"
     ]
    },
    {
     "ename": "RuntimeError",
     "evalue": "module compiled against API version 0xc but this version of numpy is 0xb",
     "output_type": "error",
     "traceback": [
      "\u001b[0;31m---------------------------------------------------------------------------\u001b[0m",
      "\u001b[0;31mRuntimeError\u001b[0m                              Traceback (most recent call last)",
      "\u001b[0;31mRuntimeError\u001b[0m: module compiled against API version 0xc but this version of numpy is 0xb"
     ]
    },
    {
     "ename": "RuntimeError",
     "evalue": "module compiled against API version 0xc but this version of numpy is 0xb",
     "output_type": "error",
     "traceback": [
      "\u001b[0;31m---------------------------------------------------------------------------\u001b[0m",
      "\u001b[0;31mRuntimeError\u001b[0m                              Traceback (most recent call last)",
      "\u001b[0;31mRuntimeError\u001b[0m: module compiled against API version 0xc but this version of numpy is 0xb"
     ]
    }
   ],
   "source": [
    "\n",
    "import pandas as pd\n",
    "import numpy as np\n",
    "from scipy.signal import argrelextrema\n",
    "import matplotlib.pyplot as plt\n",
    "from binance.client import Client\n",
    "import os\n",
    "#using a data read only api key/ switch to reading from encrypted file for security later\n",
    "api_key = 'XuozVlFg2WYVemwmHMqCK9j5jSYIV1z3MoDAXY76X2JiCbbgcw7dGxvE0eGVsqhH'\n",
    "secret_key = 'WyWBCdczLCFvV8fKy16R5dOwhhjK31T7ZrW0cplIzjrvmlSPh5E1KEeAEh5c9I6s'\n",
    "\n",
    "#initialize binance api client\n",
    "client = Client(api_key, secret_key)"
   ]
  },
  {
   "cell_type": "code",
   "execution_count": 2,
   "metadata": {},
   "outputs": [
    {
     "data": {
      "text/html": [
       "<div>\n",
       "<style scoped>\n",
       "    .dataframe tbody tr th:only-of-type {\n",
       "        vertical-align: middle;\n",
       "    }\n",
       "\n",
       "    .dataframe tbody tr th {\n",
       "        vertical-align: top;\n",
       "    }\n",
       "\n",
       "    .dataframe thead th {\n",
       "        text-align: right;\n",
       "    }\n",
       "</style>\n",
       "<table border=\"1\" class=\"dataframe\">\n",
       "  <thead>\n",
       "    <tr style=\"text-align: right;\">\n",
       "      <th></th>\n",
       "      <th>Coin</th>\n",
       "      <th>Weight %</th>\n",
       "      <th>Price</th>\n",
       "      <th>avg_returns</th>\n",
       "      <th>cum_returns</th>\n",
       "      <th>pct_returns</th>\n",
       "    </tr>\n",
       "  </thead>\n",
       "  <tbody>\n",
       "    <tr>\n",
       "      <th>0</th>\n",
       "      <td>WAVESBTC</td>\n",
       "      <td>10.745562</td>\n",
       "      <td>0.000330</td>\n",
       "      <td>0.000117</td>\n",
       "      <td>0.087365</td>\n",
       "      <td>0.065611</td>\n",
       "    </tr>\n",
       "    <tr>\n",
       "      <th>1</th>\n",
       "      <td>DNTBTC</td>\n",
       "      <td>10.442033</td>\n",
       "      <td>0.000003</td>\n",
       "      <td>-0.000022</td>\n",
       "      <td>-0.033039</td>\n",
       "      <td>-0.087379</td>\n",
       "    </tr>\n",
       "    <tr>\n",
       "      <th>2</th>\n",
       "      <td>SNMBTC</td>\n",
       "      <td>10.321087</td>\n",
       "      <td>0.000006</td>\n",
       "      <td>-0.000235</td>\n",
       "      <td>-0.199462</td>\n",
       "      <td>-0.163237</td>\n",
       "    </tr>\n",
       "    <tr>\n",
       "      <th>3</th>\n",
       "      <td>VIABTC</td>\n",
       "      <td>10.287537</td>\n",
       "      <td>0.000091</td>\n",
       "      <td>-0.000162</td>\n",
       "      <td>-0.145365</td>\n",
       "      <td>-0.220890</td>\n",
       "    </tr>\n",
       "    <tr>\n",
       "      <th>4</th>\n",
       "      <td>BQXBTC</td>\n",
       "      <td>10.276146</td>\n",
       "      <td>0.000046</td>\n",
       "      <td>-0.000166</td>\n",
       "      <td>-0.146153</td>\n",
       "      <td>-0.186886</td>\n",
       "    </tr>\n",
       "    <tr>\n",
       "      <th>5</th>\n",
       "      <td>AEBTC</td>\n",
       "      <td>10.236188</td>\n",
       "      <td>0.000132</td>\n",
       "      <td>-0.000190</td>\n",
       "      <td>-0.163715</td>\n",
       "      <td>-0.104478</td>\n",
       "    </tr>\n",
       "    <tr>\n",
       "      <th>6</th>\n",
       "      <td>KMDBTC</td>\n",
       "      <td>10.235526</td>\n",
       "      <td>0.000148</td>\n",
       "      <td>-0.000218</td>\n",
       "      <td>-0.184855</td>\n",
       "      <td>-0.129924</td>\n",
       "    </tr>\n",
       "    <tr>\n",
       "      <th>7</th>\n",
       "      <td>MODBTC</td>\n",
       "      <td>10.219473</td>\n",
       "      <td>0.000100</td>\n",
       "      <td>-0.000171</td>\n",
       "      <td>-0.149385</td>\n",
       "      <td>-0.185094</td>\n",
       "    </tr>\n",
       "    <tr>\n",
       "      <th>8</th>\n",
       "      <td>NASBTC</td>\n",
       "      <td>10.176118</td>\n",
       "      <td>0.000200</td>\n",
       "      <td>-0.000161</td>\n",
       "      <td>-0.140029</td>\n",
       "      <td>-0.152183</td>\n",
       "    </tr>\n",
       "    <tr>\n",
       "      <th>9</th>\n",
       "      <td>BTGBTC</td>\n",
       "      <td>10.094134</td>\n",
       "      <td>0.002949</td>\n",
       "      <td>-0.000034</td>\n",
       "      <td>-0.033192</td>\n",
       "      <td>-0.039414</td>\n",
       "    </tr>\n",
       "  </tbody>\n",
       "</table>\n",
       "</div>"
      ],
      "text/plain": [
       "       Coin   Weight %     Price  avg_returns  cum_returns  pct_returns\n",
       "0  WAVESBTC  10.745562  0.000330     0.000117     0.087365     0.065611\n",
       "1    DNTBTC  10.442033  0.000003    -0.000022    -0.033039    -0.087379\n",
       "2    SNMBTC  10.321087  0.000006    -0.000235    -0.199462    -0.163237\n",
       "3    VIABTC  10.287537  0.000091    -0.000162    -0.145365    -0.220890\n",
       "4    BQXBTC  10.276146  0.000046    -0.000166    -0.146153    -0.186886\n",
       "5     AEBTC  10.236188  0.000132    -0.000190    -0.163715    -0.104478\n",
       "6    KMDBTC  10.235526  0.000148    -0.000218    -0.184855    -0.129924\n",
       "7    MODBTC  10.219473  0.000100    -0.000171    -0.149385    -0.185094\n",
       "8    NASBTC  10.176118  0.000200    -0.000161    -0.140029    -0.152183\n",
       "9    BTGBTC  10.094134  0.002949    -0.000034    -0.033192    -0.039414"
      ]
     },
     "execution_count": 2,
     "metadata": {},
     "output_type": "execute_result"
    }
   ],
   "source": [
    "# locate and sort local portfolios\n",
    "# later update to functions for freq port rather than bw port\n",
    "port_folder = '/home/me/Documents/BWA/portfolios/'\n",
    "port_folder_list = os.listdir(port_folder)\n",
    "port_folder_list.sort()\n",
    "last_port = port_folder_list[len(port_folder_list)-1]\n",
    "#print(port_folder+last_port+'/portfolio')\n",
    "bw_portfolio = pd.read_csv(port_folder+last_port+'/buywall/portfolio')\n",
    "bw_portfolio.columns = ['Coin','Weight %','Price','avg_returns','cum_returns','pct_returns']\n",
    "bw_portfolio"
   ]
  },
  {
   "cell_type": "markdown",
   "metadata": {},
   "source": [
    "## Get portfolios and historical data"
   ]
  },
  {
   "cell_type": "code",
   "execution_count": 3,
   "metadata": {
    "scrolled": false
   },
   "outputs": [
    {
     "name": "stdout",
     "output_type": "stream",
     "text": [
      "WAVESBTC\n",
      "636\n"
     ]
    },
    {
     "data": {
      "image/png": "[encoded data removed]",
      "text/plain": [
       "<matplotlib.figure.Figure at 0x7f0278c62518>"
      ]
     },
     "metadata": {},
     "output_type": "display_data"
    },
    {
     "name": "stdout",
     "output_type": "stream",
     "text": [
      "next sym\n",
      "DNTBTC\n",
      "636\n",
      "next sym\n",
      "SNMBTC\n",
      "636\n",
      "next sym\n",
      "VIABTC\n",
      "636\n",
      "next sym\n",
      "BQXBTC\n",
      "636\n",
      "next sym\n",
      "AEBTC\n",
      "636\n",
      "next sym\n",
      "KMDBTC\n",
      "636\n",
      "next sym\n",
      "MODBTC\n",
      "636\n",
      "next sym\n",
      "NASBTC\n",
      "636\n",
      "next sym\n",
      "BTGBTC\n",
      "636\n"
     ]
    },
    {
     "data": {
      "image/png": "[encoded data removed]",
      "text/plain": [
       "<matplotlib.figure.Figure at 0x7f0278cf82e8>"
      ]
     },
     "metadata": {},
     "output_type": "display_data"
    },
    {
     "name": "stdout",
     "output_type": "stream",
     "text": [
      "next sym\n"
     ]
    },
    {
     "data": {
      "image/png": "[encoded data removed]",
      "text/plain": [
       "<matplotlib.figure.Figure at 0x7f02747c4e10>"
      ]
     },
     "metadata": {},
     "output_type": "display_data"
    }
   ],
   "source": [
    "#tolerance for extrema values\n",
    "tol = 20.0/100\n",
    "#loop through coin in portfolio\n",
    "for coin in bw_portfolio[\"Coin\"]:\n",
    "    print(coin)\n",
    "    #Download hist data update with funtion for specific timeframe\n",
    "    data = client.get_historical_klines(coin,client.KLINE_INTERVAL_5MINUTE,'2 days ago')\n",
    "    data = pd.DataFrame(data,columns=['Open time','Open','High','Low','Close','Volume','Close time','Quote volume','Num trades', 'btc buys', 'coin buys', 'ignore'])\n",
    "    #data = data.fillna(method='ffill')\n",
    "    # convert from millesecond time to datetime for potential resampling and readability\n",
    "    data['Open time'] = data['Open time']/1000\n",
    "    data['Open time'] = data['Open time'].astype('datetime64[s]')\n",
    "    data = data.set_index('Open time')\n",
    "    data = data[['Open','High','Low','Close','Volume']].astype(float)\n",
    "    #data = data.drop_duplicates()\n",
    "    #get price\n",
    "    test_len = int(len(data)-150)\n",
    "    price = data.Close.copy()\n",
    "    print(len(price))\n",
    "    #get extremas without looking into 'future'\n",
    "    #update to use given lookback\n",
    "    for i in range(500,len(price)):\n",
    "        #max extrema\n",
    "        max_i = list(argrelextrema(price.values[:i],np.greater,order=5)[0])\n",
    "        #min extrema\n",
    "        min_i = list(argrelextrema(price.values[:i],np.less,order=5)[0])\n",
    "        idx = max_i+min_i+[len(price.values[:i])-1]\n",
    "        idx.sort()\n",
    "        #pattern\n",
    "        #current index is data up to 5 values before the end of the list\n",
    "        current_idx = idx[-5:]\n",
    "        current_pat = price.values[current_idx]\n",
    "        start = min(current_idx)\n",
    "        end = max(current_idx)\n",
    "        #find pattern\n",
    "        XA = current_pat[1]-current_pat[0]\n",
    "        AB = current_pat[2]-current_pat[1]\n",
    "        BC = current_pat[3]-current_pat[2]\n",
    "        CD = current_pat[4]-current_pat[3]\n",
    "        #price range for patterns with tolerance\n",
    "        try:\n",
    "            #bullish gartley\n",
    "            if (XA>0 and AB<0 and BC>0 and CD<0):\n",
    "                AB_range = np.array([0.618-tol,0.618+tol])*abs(XA)\n",
    "                BC_range = np.array([0.382-tol,0.886+tol])*abs(AB)\n",
    "                CD_range = np.array([1.27-tol,1.618+tol])*abs(BC)\n",
    "                \n",
    "                #\n",
    "                plt.legend([\"Price\",\"Resistance Pattern\"])\n",
    "                if(AB_range[0]<abs(AB)<AB_range[1])and (BC_range[0]<abs(BC)<BC_range[1])and (CD_range[0]<abs(CD)<CD_range[1]):\n",
    "                    plt.plot(np.arange(start,i+40),price.values[start:i+40])\n",
    "                    plt.plot(current_idx,current_pat,color='red')\n",
    "                    plt.legend([\"Price\",\"Resistance Pattern\"])\n",
    "                    plt.show()\n",
    "            elif (XA<0 and AB>0 and BC<0 and CD>0):\n",
    "                AB_range = np.array([0.618-tol,0.618+tol])*abs(XA)\n",
    "                BC_range = np.array([0.382-tol,0.886+tol])*abs(AB)\n",
    "                CD_range = np.array([1.27-tol,1.618+tol])*abs(BC)\n",
    "                if(AB_range[0]<abs(AB)<AB_range[1])and (BC_range[0]<abs(BC)<BC_range[1])and (CD_range[0]<abs(CD)<CD_range[1]):\n",
    "                    plt.plot(np.arange(start,i+40),price.values[start:i+40])\n",
    "                    plt.plot(current_idx,current_pat,color='green')\n",
    "                    plt.legend([\"Price\",\"Support Pattern\"])\n",
    "                    plt.show()\n",
    "        except Exception as e:\n",
    "            print(e)\n",
    "    cont = input(\"next sym\")\n",
    "    if(cont=='n'):\n",
    "        break"
   ]
  },
  {
   "cell_type": "code",
   "execution_count": null,
   "metadata": {},
   "outputs": [],
   "source": []
  },
  {
   "cell_type": "code",
   "execution_count": null,
   "metadata": {},
   "outputs": [],
   "source": []
  },
  {
   "cell_type": "code",
   "execution_count": null,
   "metadata": {},
   "outputs": [],
   "source": []
  }
 ],
 "metadata": {
  "kernelspec": {
   "display_name": "Python 3",
   "language": "python",
   "name": "python3"
  },
  "language_info": {
   "codemirror_mode": {
    "name": "ipython",
    "version": 3
   },
   "file_extension": ".py",
   "mimetype": "text/x-python",
   "name": "python",
   "nbconvert_exporter": "python",
   "pygments_lexer": "ipython3",
   "version": "3.6.3"
  }
 },
 "nbformat": 4,
 "nbformat_minor": 2
}
